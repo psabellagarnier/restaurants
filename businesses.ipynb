{
 "cells": [
  {
   "cell_type": "code",
   "execution_count": 1046,
   "metadata": {},
   "outputs": [],
   "source": [
    "import requests, json, time"
   ]
  },
  {
   "cell_type": "code",
   "execution_count": 525,
   "metadata": {},
   "outputs": [],
   "source": [
    "def licenses_url(year):\n",
    "    return f'https://opendata.vancouver.ca/api/records/1.0/download/?dataset=business-licences&q=&rows=-1&facet=licencerevisionnumber&facet=status&facet=issueddate&facet=businesstype&facet=businesssubtype&facet=city&facet=province&facet=localarea&facet=geom&facet=street&refine.folderyear={year}&format=json'\n",
    "\n",
    "def taxes_url(year):\n",
    "    if year>13:\n",
    "        return f'https://opendata.vancouver.ca/api/records/1.0/download/?dataset=property-tax-report&q=&rows=-1&facet=legal_type&facet=zone_category&facet=report_year&refine.report_year=20{year}&format=json'\n",
    "    else:\n",
    "        return f'https://opendata.vancouver.ca/api/records/1.0/download/?dataset=property-tax-report-2006-2013&q=&rows=-1&facet=legal_type&facet=zone_category&facet=report_year&refine.report_year=20{year}&format=json'\n"
   ]
  },
  {
   "cell_type": "code",
   "execution_count": 342,
   "metadata": {},
   "outputs": [
    {
     "name": "stdout",
     "output_type": "stream",
     "text": [
      "Time to download: 53.689\n",
      "Time to download: 52.183\n",
      "Time to download: 52.571\n",
      "Time to download: 53.09\n",
      "Time to download: 53.335\n",
      "Time to download: 57.699\n",
      "Time to download: 61.593\n"
     ]
    }
   ],
   "source": [
    "years = [13,14,15,16,17,18,19]\n",
    "for year in years:\n",
    "    t = time.perf_counter()\n",
    "    data_response = requests.get(licenses_url(year))\n",
    "    with open(f'section1/data/licenses_20{year}.txt', 'w') as outfile:\n",
    "        json.dump(data_response.text, outfile)\n",
    "    print('Time to download:', round(time.perf_counter()-t,3))"
   ]
  },
  {
   "cell_type": "code",
   "execution_count": 526,
   "metadata": {},
   "outputs": [
    {
     "name": "stdout",
     "output_type": "stream",
     "text": [
      "Time to download: 101.661\n",
      "Time to download: 109.324\n",
      "Time to download: 109.522\n",
      "Time to download: 109.497\n",
      "Time to download: 111.123\n",
      "Time to download: 113.074\n",
      "Time to download: 115.7\n"
     ]
    }
   ],
   "source": [
    "for year in years:\n",
    "    t = time.perf_counter()\n",
    "    data_response = requests.get(taxes_url(year))\n",
    "    with open(f'section1/data/taxes_20{year}.txt', 'w') as outfile:\n",
    "        json.dump(data_response.text, outfile)\n",
    "    print('Time to download:', round(time.perf_counter()-t,3))"
   ]
  }
 ],
 "metadata": {
  "kernelspec": {
   "display_name": "Python 3",
   "language": "python",
   "name": "python3"
  },
  "language_info": {
   "codemirror_mode": {
    "name": "ipython",
    "version": 3
   },
   "file_extension": ".py",
   "mimetype": "text/x-python",
   "name": "python",
   "nbconvert_exporter": "python",
   "pygments_lexer": "ipython3",
   "version": "3.7.7"
  }
 },
 "nbformat": 4,
 "nbformat_minor": 4
}
